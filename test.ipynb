{
 "cells": [
  {
   "cell_type": "code",
   "execution_count": 1,
   "id": "a1535669",
   "metadata": {},
   "outputs": [],
   "source": [
    "from pysheds.grid import Grid\n",
    "\n",
    "import numpy as np\n",
    "import matplotlib.pyplot as plt\n",
    "\n",
    "import datetime as dt"
   ]
  },
  {
   "cell_type": "code",
   "execution_count": 2,
   "id": "1cb27a5a",
   "metadata": {},
   "outputs": [
    {
     "name": "stdout",
     "output_type": "stream",
     "text": [
      "Elapsed time: 0:00:02.508069\n"
     ]
    }
   ],
   "source": [
    "# lat = 32.52726\n",
    "# lon = -114.79777\n",
    "\n",
    "lat, lon = 32.49434, -114.81376  # Colorado River at San Luis Rio Colorado\n",
    "tif = './data/hyd_na_dir_15s.tif'\n",
    "\n",
    "x = lon\n",
    "y = lat\n",
    "\n",
    "start = dt.datetime.now()\n",
    "\n",
    "grid = Grid.from_raster(tif)\n",
    "fdir = grid.read_raster(tif)\n",
    "\n",
    "dirmap = (64, 128, 1, 2, 4, 8, 16, 32)\n",
    "\n",
    "catchment = grid.catchment(x, y, fdir, dirmap=dirmap, snap='center')\n",
    "\n",
    "elapsed_time = dt.datetime.now() - start\n",
    "print(f'Elapsed time: {elapsed_time}')"
   ]
  },
  {
   "cell_type": "code",
   "execution_count": 3,
   "id": "b7d1c804",
   "metadata": {},
   "outputs": [],
   "source": [
    "grid.clip_to(catchment)\n",
    "catch_view = grid.view(catchment, dtype=np.uint8)"
   ]
  },
  {
   "cell_type": "code",
   "execution_count": 4,
   "id": "e6407c0d",
   "metadata": {},
   "outputs": [],
   "source": [
    "import fiona\n",
    "shapes = grid.polygonize(catch_view)\n",
    "\n",
    "# Specify schema\n",
    "schema = {\n",
    "        'geometry': 'Polygon',\n",
    "        'properties': {'LABEL': 'float:16'}\n",
    "}\n",
    "\n",
    "# Write shapefile\n",
    "with fiona.open('catchment.shp', 'w',\n",
    "                driver='ESRI Shapefile',\n",
    "                crs=grid.crs.srs,\n",
    "                schema=schema) as c:\n",
    "    i = 0\n",
    "    for shape, value in shapes:\n",
    "        rec = {}\n",
    "        rec['geometry'] = shape\n",
    "        rec['properties'] = {'LABEL' : str(value)}\n",
    "        rec['id'] = str(i)\n",
    "        c.write(rec)\n",
    "        i += 1"
   ]
  },
  {
   "cell_type": "code",
   "execution_count": 6,
   "id": "a9424180",
   "metadata": {},
   "outputs": [
    {
     "data": {
      "image/png": "[encoded data removed]",
      "text/plain": [
       "<Figure size 864x648 with 1 Axes>"
      ]
     },
     "metadata": {
      "needs_background": "light"
     },
     "output_type": "display_data"
    }
   ],
   "source": [
    "# Plot the catchment\n",
    "fig, ax = plt.subplots(figsize=(12,9))\n",
    "fig.patch.set_alpha(0)\n",
    "\n",
    "plt.grid('on', zorder=0)\n",
    "im = ax.imshow(np.where(catch_view, catch_view, np.nan), extent=grid.extent,\n",
    "               zorder=1, cmap='Greys_r')\n",
    "plt.xlabel('Longitude')\n",
    "plt.ylabel('Latitude')\n",
    "plt.title('Delineated Catchment', size=14)\n",
    "\n",
    "plt.show()"
   ]
  },
  {
   "cell_type": "code",
   "execution_count": null,
   "id": "71c545b3",
   "metadata": {},
   "outputs": [],
   "source": []
  }
 ],
 "metadata": {
  "kernelspec": {
   "display_name": "Python 3 (ipykernel)",
   "language": "python",
   "name": "python3"
  },
  "language_info": {
   "codemirror_mode": {
    "name": "ipython",
    "version": 3
   },
   "file_extension": ".py",
   "mimetype": "text/x-python",
   "name": "python",
   "nbconvert_exporter": "python",
   "pygments_lexer": "ipython3",
   "version": "3.10.4"
  }
 },
 "nbformat": 4,
 "nbformat_minor": 5
}
